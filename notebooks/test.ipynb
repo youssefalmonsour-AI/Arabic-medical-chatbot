{
 "cells": [
  {
   "cell_type": "code",
   "execution_count": 3,
   "id": "c255f354-d372-40da-bbb5-b3a3188a5177",
   "metadata": {},
   "outputs": [],
   "source": [
    "import numpy as np\n",
    "import faiss\n",
    "from sentence_transformers import SentenceTransformer\n",
    "import pandas as pd\n",
    "from sklearn.model_selection import train_test_split\n",
    "from sklearn.metrics import f1_score, precision_score, recall_score, classification_report\n",
    "\n",
    "# تحميل البيانات\n",
    "df = pd.read_csv(\"../data/cleaned_for_generation.csv\")\n",
    "df = df[[\"input\", \"output\"]].fillna(\"\").astype(str)\n",
    "\n",
    "# تقسيم البيانات إلى تدريب واختبار\n",
    "train_df, test_df = train_test_split(df, test_size=0.2, random_state=42)\n",
    "qa_pairs_train = train_df.to_dict(orient=\"records\")\n",
    "qa_pairs_test = test_df.to_dict(orient=\"records\")\n",
    "\n"
   ]
  },
  {
   "cell_type": "code",
   "execution_count": 4,
   "id": "033e1a9d-0575-40c5-b8aa-d439d30fb15c",
   "metadata": {},
   "outputs": [],
   "source": [
    "train_df, test_df = train_test_split(df, test_size=0.2, random_state=42)\n",
    "qa_pairs_train = train_df.to_dict(orient=\"records\")\n",
    "qa_pairs_test = test_df.to_dict(orient=\"records\")"
   ]
  },
  {
   "cell_type": "code",
   "execution_count": 5,
   "id": "9d70f4f9-5208-4036-9fd1-bf3cf489ee90",
   "metadata": {},
   "outputs": [
    {
     "name": "stderr",
     "output_type": "stream",
     "text": [
      "C:\\Users\\DELL\\AppData\\Local\\Programs\\Python\\Python39\\lib\\site-packages\\huggingface_hub\\file_download.py:943: FutureWarning: `resume_download` is deprecated and will be removed in version 1.0.0. Downloads always resume when possible. If you want to force a new download, use `force_download=True`.\n",
      "  warnings.warn(\n"
     ]
    }
   ],
   "source": [
    "model = SentenceTransformer(\"sentence-transformers/paraphrase-multilingual-MiniLM-L12-v2\")\n",
    "index = faiss.read_index(\"../embeddings/faiss_index.bin\")"
   ]
  },
  {
   "cell_type": "code",
   "execution_count": 6,
   "id": "59cdd776-41be-4b51-b412-c96f37242245",
   "metadata": {},
   "outputs": [],
   "source": [
    "test_questions = [pair[\"input\"] for pair in qa_pairs_test]\n",
    "test_answers = [pair[\"output\"] for pair in qa_pairs_test]"
   ]
  },
  {
   "cell_type": "code",
   "execution_count": 7,
   "id": "d0653fbc-a77e-4350-8bec-eb68f11543da",
   "metadata": {},
   "outputs": [],
   "source": [
    "train_qa = np.load(\"../embeddings/medical_questions.npy\", allow_pickle=True)"
   ]
  },
  {
   "cell_type": "code",
   "execution_count": 21,
   "id": "1d9abdc3-fca9-45f8-9d1f-97882b2935a4",
   "metadata": {},
   "outputs": [],
   "source": [
    "import time"
   ]
  },
  {
   "cell_type": "code",
   "execution_count": 26,
   "id": "62a94c9f-7ab6-4a01-a2ae-031c988ac2fd",
   "metadata": {},
   "outputs": [
    {
     "name": "stdout",
     "output_type": "stream",
     "text": [
      "Requirement already satisfied: Rouge in c:\\users\\dell\\appdata\\local\\programs\\python\\python39\\lib\\site-packages (1.0.1)\n",
      "Requirement already satisfied: six in c:\\users\\dell\\appdata\\local\\programs\\python\\python39\\lib\\site-packages (from Rouge) (1.17.0)\n"
     ]
    }
   ],
   "source": [
    "!pip install Rouge\n"
   ]
  },
  {
   "cell_type": "code",
   "execution_count": 30,
   "id": "c9f86438-956b-412f-b5e2-637516aac35b",
   "metadata": {},
   "outputs": [],
   "source": [
    "from rouge import Rouge"
   ]
  },
  {
   "cell_type": "code",
   "execution_count": 49,
   "id": "6f7123a0-eb4c-46d1-991f-8d8c8e76100e",
   "metadata": {},
   "outputs": [],
   "source": [
    "def evaluate_retrieval(test_questions, test_answers, top_k=5):\n",
    "    all_f1 = []\n",
    "    all_precision = []\n",
    "    all_recall = []\n",
    "    all_rouge = []\n",
    "    retrieved_answers = []\n",
    "    \n",
    "    # تشفير جميع أسئلة الاختبار مرة واحدة\n",
    "    start_time = time.time()\n",
    "    test_embeddings = model.encode(test_questions, batch_size=64)\n",
    "    encode_time = time.time() - start_time\n",
    "    \n",
    "    rouge = Rouge()\n",
    "    total_search_time = 0\n",
    "    \n",
    "    for i, (query_emb, true_answer) in enumerate(zip(test_embeddings, test_answers)):\n",
    "        # البحث في الفهرس\n",
    "        start_search = time.time()\n",
    "        query_emb = np.array([query_emb]).astype(\"float32\")\n",
    "        distances, indices = index.search(query_emb, top_k)\n",
    "        search_time = time.time() - start_search\n",
    "        total_search_time += search_time\n",
    "        \n",
    "        # استرجاع الإجابات المرتبطة\n",
    "        retrieved = [train_qa[idx][\"output\"] for idx in indices[0]]\n",
    "        retrieved_answers.append(retrieved)\n",
    "        \n",
    "        # حساب F1-Score للإجابة الأولى\n",
    "        true_tokens = set(true_answer.split())\n",
    "        ret_tokens = set(retrieved[0].split())\n",
    "        \n",
    "        common_tokens = true_tokens & ret_tokens\n",
    "        precision = len(common_tokens) / len(ret_tokens) if len(ret_tokens) > 0 else 0\n",
    "        recall = len(common_tokens) / len(true_tokens) if len(true_tokens) > 0 else 0\n",
    "        \n",
    "        if (precision + recall) > 0:\n",
    "            f1 = 2 * (precision * recall) / (precision + recall)\n",
    "        else:\n",
    "            f1 = 0\n",
    "            \n",
    "        all_f1.append(f1)\n",
    "        all_precision.append(precision)\n",
    "        all_recall.append(recall)\n",
    "        \n",
    "        # حساب ROUGE score كل 100 عينة لتسريع العملية\n",
    "        if i % 100 == 0:\n",
    "            try:\n",
    "                scores = rouge.get_scores(\" \".join(retrieved[0].split()[:100]), \n",
    "                                        \" \".join(true_answer.split()[:100]))\n",
    "                all_rouge.append(scores[0]['rouge-l']['f'])\n",
    "            except:\n",
    "                all_rouge.append(0)\n",
    "    \n",
    "    # طباعة النتائج\n",
    "    print(\"\\n\" + \"=\"*60)\n",
    "    print(f\"النتائج على {len(test_questions)} عينة اختبار:\")\n",
    "    print(\"=\"*60)\n",
    "    print(f\"متوسط F1-Score: {np.mean(all_f1):.4f}\")\n",
    "    print(f\"متوسط الدقة (Precision): {np.mean(all_precision):.4f}\")\n",
    "    print(f\"متوسط الاستدعاء (Recall): {np.mean(all_recall):.4f}\")\n",
    "    print(f\"متوسط ROUGE-L F1: {np.mean(all_rouge):.4f}\")\n",
    "    print(\"\\nأوقات التنفيذ:\")\n",
    "    print(f\"- وقت التشفير: {encode_time:.2f} ثانية\")\n",
    "    print(f\"- متوسط وقت البحث لكل سؤال: {total_search_time/len(test_questions)*1000:.2f} مللي ثانية\")\n",
    "    print(\"=\"*60)\n",
    "    \n",
    "    # تقرير مفصل للعينة الأولى\n",
    "    print(\"\\nعينة اختبار توضيحية:\")\n",
    "    print(f\"السؤال: {test_questions[0]}\")\n",
    "    print(f\"الإجابة الصحيحة: {test_answers[0]}\")\n",
    "    print(f\"أفضل إجابة مسترجعة: {retrieved_answers[0][0]}\")\n",
    "    print(f\"F1-Score للعينة: {all_f1[0]:.4f}\")\n",
    "    \n",
    "    return all_f1, all_precision, all_recall"
   ]
  },
  {
   "cell_type": "code",
   "execution_count": 51,
   "id": "60d707e0-1474-436d-aec7-445c028d8043",
   "metadata": {},
   "outputs": [
    {
     "name": "stdout",
     "output_type": "stream",
     "text": [
      "\n",
      "============================================================\n",
      "النتائج على 161695 عينة اختبار:\n",
      "============================================================\n",
      "متوسط F1-Score: 0.9981\n",
      "متوسط الدقة (Precision): 0.9982\n",
      "متوسط الاستدعاء (Recall): 0.9983\n",
      "متوسط ROUGE-L F1: 0.9987\n",
      "\n",
      "أوقات التنفيذ:\n",
      "- وقت التشفير: 216.11 ثانية\n",
      "- متوسط وقت البحث لكل سؤال: 72.99 مللي ثانية\n",
      "============================================================\n",
      "\n",
      "عينة اختبار توضيحية:\n",
      "السؤال: سؤال: ما الفرق بين أدوية الربو و أدوية ؟ و ما الفرق بين الفينتولين و السيرتايد ؟ هل مادة السالبوتامول هيي الأساسية بغض النظر عن أسماء الشركات ؟ شكرا لكم\n",
      "الإجابة الصحيحة: إجابة: هناك فرق نعم وقد يكون في ادوية قاسم مشترك بين الحالتين ولنستفيض بالشرح يجب ان يكون لديك خلفية صحية لتتمكن من المعرفة الاكاديمية للتفريق بين الحالتين وادويتهما\n",
      "أفضل إجابة مسترجعة: إجابة: هناك فرق نعم وقد يكون في ادوية قاسم مشترك بين الحالتين ولنستفيض بالشرح يجب ان يكون لديك خلفية صحية لتتمكن من المعرفة الاكاديمية للتفريق بين الحالتين وادويتهما\n",
      "F1-Score للعينة: 1.0000\n"
     ]
    }
   ],
   "source": [
    "f1_scores, precisions, recalls = evaluate_retrieval(test_questions, test_answers)"
   ]
  },
  {
   "cell_type": "code",
   "execution_count": null,
   "id": "365afa08-3dca-4d6a-b35a-610ae160e721",
   "metadata": {},
   "outputs": [],
   "source": []
  }
 ],
 "metadata": {
  "kernelspec": {
   "display_name": "Python 3 (ipykernel)",
   "language": "python",
   "name": "python3"
  },
  "language_info": {
   "codemirror_mode": {
    "name": "ipython",
    "version": 3
   },
   "file_extension": ".py",
   "mimetype": "text/x-python",
   "name": "python",
   "nbconvert_exporter": "python",
   "pygments_lexer": "ipython3",
   "version": "3.9.13"
  }
 },
 "nbformat": 4,
 "nbformat_minor": 5
}
