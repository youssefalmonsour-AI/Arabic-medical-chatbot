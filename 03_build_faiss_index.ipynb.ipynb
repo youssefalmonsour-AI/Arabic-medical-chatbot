{
 "cells": [
  {
   "cell_type": "code",
   "execution_count": 1,
   "id": "9371826b-136b-4a42-a170-81e21dc9ba9d",
   "metadata": {},
   "outputs": [],
   "source": [
    "import pandas as pd\n",
    "import numpy as np\n",
    "import faiss\n",
    "from sentence_transformers import SentenceTransformer\n",
    "import os"
   ]
  },
  {
   "cell_type": "code",
   "execution_count": 2,
   "id": "0819e9aa-abeb-4c8b-bb6e-6f1ad1467dee",
   "metadata": {},
   "outputs": [],
   "source": [
    "df = pd.read_csv(\"../data/cleaned_for_generation.csv\")"
   ]
  },
  {
   "cell_type": "code",
   "execution_count": 3,
   "id": "f27db7d1-aada-4f8a-bbaf-d0c2733d1874",
   "metadata": {},
   "outputs": [],
   "source": [
    "df = df[[\"input\", \"output\"]].fillna(\"\").astype(str)\n",
    "qa_pairs = df.to_dict(orient=\"records\")  # قائمة من القواميس [{'input': ..., 'output': ...}, ...]\n"
   ]
  },
  {
   "cell_type": "code",
   "execution_count": 4,
   "id": "f5043d6f-c261-4802-8e86-c3b3001edca5",
   "metadata": {},
   "outputs": [
    {
     "name": "stderr",
     "output_type": "stream",
     "text": [
      "C:\\Users\\DELL\\AppData\\Local\\Programs\\Python\\Python39\\lib\\site-packages\\huggingface_hub\\file_download.py:943: FutureWarning: `resume_download` is deprecated and will be removed in version 1.0.0. Downloads always resume when possible. If you want to force a new download, use `force_download=True`.\n",
      "  warnings.warn(\n"
     ]
    },
    {
     "data": {
      "application/vnd.jupyter.widget-view+json": {
       "model_id": "3faab4baecbe46ff8e9650479219fb0e",
       "version_major": 2,
       "version_minor": 0
      },
      "text/plain": [
       "Batches:   0%|          | 0/12633 [00:00<?, ?it/s]"
      ]
     },
     "metadata": {},
     "output_type": "display_data"
    }
   ],
   "source": [
    "model_name = \"sentence-transformers/paraphrase-multilingual-MiniLM-L12-v2\"\n",
    "model = SentenceTransformer(model_name)\n",
    "\n",
    "questions = [pair[\"input\"] for pair in qa_pairs]\n",
    "embeddings = model.encode(questions, show_progress_bar=True, batch_size=64)"
   ]
  },
  {
   "cell_type": "code",
   "execution_count": 7,
   "id": "1cd4f4a1-4218-4a8f-8ccd-e45a88e58d3d",
   "metadata": {},
   "outputs": [],
   "source": [
    "dimension = embeddings.shape[1]\n",
    "index = faiss.IndexFlatL2(dimension)\n",
    "index.add(np.array(embeddings).astype(\"float32\"))"
   ]
  },
  {
   "cell_type": "code",
   "execution_count": 8,
   "id": "4a9a2f40-ec33-460c-bf12-b7cfe41488dd",
   "metadata": {},
   "outputs": [
    {
     "name": "stdout",
     "output_type": "stream",
     "text": [
      " تم بناء فهرس FAISS وحفظ الأسئلة + الإجابات.\n"
     ]
    }
   ],
   "source": [
    "os.makedirs(\"../embeddings\", exist_ok=True)\n",
    "faiss.write_index(index, \"../embeddings/faiss_index.bin\")\n",
    "np.save(\"../embeddings/medical_questions.npy\", qa_pairs, allow_pickle=True)\n",
    "\n",
    "print(\" تم بناء فهرس FAISS وحفظ الأسئلة + الإجابات.\")"
   ]
  },
  {
   "cell_type": "code",
   "execution_count": null,
   "id": "41fe3975-d662-4cd9-927d-1d41390a69c4",
   "metadata": {},
   "outputs": [],
   "source": []
  }
 ],
 "metadata": {
  "kernelspec": {
   "display_name": "Python 3 (ipykernel)",
   "language": "python",
   "name": "python3"
  },
  "language_info": {
   "codemirror_mode": {
    "name": "ipython",
    "version": 3
   },
   "file_extension": ".py",
   "mimetype": "text/x-python",
   "name": "python",
   "nbconvert_exporter": "python",
   "pygments_lexer": "ipython3",
   "version": "3.9.13"
  }
 },
 "nbformat": 4,
 "nbformat_minor": 5
}
